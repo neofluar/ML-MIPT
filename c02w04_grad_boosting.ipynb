{
 "cells": [
  {
   "cell_type": "markdown",
   "metadata": {},
   "source": [
    "# Градиентный бустинг своими руками"
   ]
  },
  {
   "cell_type": "markdown",
   "metadata": {},
   "source": [
    "В этом задании будет использоваться датасет boston из sklearn.datasets. Оставьте последние 25% объектов для контроля качества, разделив X и y на X_train, y_train и X_test, y_test. Целью задания будет реализовать простой вариант градиентного бустинга над регрессионными деревьями для случая квадратичной функции потерь."
   ]
  },
  {
   "cell_type": "code",
   "execution_count": 63,
   "metadata": {},
   "outputs": [],
   "source": [
    "import pandas as pd\n",
    "import numpy as np\n",
    "from matplotlib import pyplot as plt\n",
    "from sklearn import datasets, model_selection, metrics, ensemble, tree, linear_model"
   ]
  },
  {
   "cell_type": "code",
   "execution_count": 37,
   "metadata": {},
   "outputs": [],
   "source": [
    "%matplotlib inline"
   ]
  },
  {
   "cell_type": "code",
   "execution_count": 19,
   "metadata": {},
   "outputs": [
    {
     "name": "stdout",
     "output_type": "stream",
     "text": [
      ".. _boston_dataset:\n",
      "\n",
      "Boston house prices dataset\n",
      "---------------------------\n",
      "\n",
      "**Data Set Characteristics:**  \n",
      "\n",
      "    :Number of Instances: 506 \n",
      "\n",
      "    :Number of Attributes: 13 numeric/categorical predictive. Median Value (attribute 14) is usually the target.\n",
      "\n",
      "    :Attribute Information (in order):\n",
      "        - CRIM     per capita crime rate by town\n",
      "        - ZN       proportion of residential land zoned for lots over 25,000 sq.ft.\n",
      "        - INDUS    proportion of non-retail business acres per town\n",
      "        - CHAS     Charles River dummy variable (= 1 if tract bounds river; 0 otherwise)\n",
      "        - NOX      nitric oxides concentration (parts per 10 million)\n",
      "        - RM       average number of rooms per dwelling\n",
      "        - AGE      proportion of owner-occupied units built prior to 1940\n",
      "        - DIS      weighted distances to five Boston employment centres\n",
      "        - RAD      index of accessibility to radial highways\n",
      "        - TAX      full-value property-tax rate per $10,000\n",
      "        - PTRATIO  pupil-teacher ratio by town\n",
      "        - B        1000(Bk - 0.63)^2 where Bk is the proportion of blacks by town\n",
      "        - LSTAT    % lower status of the population\n",
      "        - MEDV     Median value of owner-occupied homes in $1000's\n",
      "\n",
      "    :Missing Attribute Values: None\n",
      "\n",
      "    :Creator: Harrison, D. and Rubinfeld, D.L.\n",
      "\n",
      "This is a copy of UCI ML housing dataset.\n",
      "https://archive.ics.uci.edu/ml/machine-learning-databases/housing/\n",
      "\n",
      "\n",
      "This dataset was taken from the StatLib library which is maintained at Carnegie Mellon University.\n",
      "\n",
      "The Boston house-price data of Harrison, D. and Rubinfeld, D.L. 'Hedonic\n",
      "prices and the demand for clean air', J. Environ. Economics & Management,\n",
      "vol.5, 81-102, 1978.   Used in Belsley, Kuh & Welsch, 'Regression diagnostics\n",
      "...', Wiley, 1980.   N.B. Various transformations are used in the table on\n",
      "pages 244-261 of the latter.\n",
      "\n",
      "The Boston house-price data has been used in many machine learning papers that address regression\n",
      "problems.   \n",
      "     \n",
      ".. topic:: References\n",
      "\n",
      "   - Belsley, Kuh & Welsch, 'Regression diagnostics: Identifying Influential Data and Sources of Collinearity', Wiley, 1980. 244-261.\n",
      "   - Quinlan,R. (1993). Combining Instance-Based and Model-Based Learning. In Proceedings on the Tenth International Conference of Machine Learning, 236-243, University of Massachusetts, Amherst. Morgan Kaufmann.\n",
      "\n"
     ]
    }
   ],
   "source": [
    "boston = datasets.load_boston()\n",
    "print(boston.DESCR)"
   ]
  },
  {
   "cell_type": "code",
   "execution_count": 31,
   "metadata": {},
   "outputs": [],
   "source": [
    "X = boston.data\n",
    "y = boston.target\n",
    "\n",
    "n = len(boston.data)\n",
    "X_train = np.array(X[:int(0.75*n)])\n",
    "X_test = np.array(X[int(0.75*n):])\n",
    "y_train = np.array(y[:int(0.75*n)])\n",
    "y_test = np.array(y[int(0.75*n):])"
   ]
  },
  {
   "cell_type": "markdown",
   "metadata": {},
   "source": [
    "### Задание 1"
   ]
  },
  {
   "cell_type": "markdown",
   "metadata": {},
   "source": [
    "Как вы уже знаете из лекций, бустинг - это метод построения композиций базовых алгоритмов с помощью последовательного добавления к текущей композиции нового алгоритма с некоторым коэффициентом. Градиентный бустинг обучает каждый новый алгоритм так, чтобы он приближал антиградиент ошибки по ответам композиции на обучающей выборке. Аналогично минимизации функций методом градиентного спуска, в градиентном бустинге мы подправляем композицию, изменяя алгоритм в направлении антиградиента ошибки. Воспользуйтесь формулой из лекций, задающей ответы на обучающей выборке, на которые нужно обучать новый алгоритм (фактически это лишь чуть более подробно расписанный градиент от ошибки), и получите частный ее случай, если функция потерь L - квадрат отклонения ответа композиции a(x) от правильного ответа y на данном x.\n",
    "\n",
    "Если вы давно не считали производную самостоятельно, вам поможет таблица производных элементарных функций (которую несложно найти в интернете) и правило дифференцирования сложной функции. После дифференцирования квадрата у вас возникнет множитель 2 — т.к. нам все равно предстоит выбирать коэффициент, с которым будет добавлен новый базовый алгоритм, проигноируйте этот множитель при дальнейшем построении алгоритма."
   ]
  },
  {
   "cell_type": "markdown",
   "metadata": {},
   "source": [
    "L'z(y,a(x)) = 2(a(x) - y)"
   ]
  },
  {
   "cell_type": "markdown",
   "metadata": {},
   "source": [
    "### Задание 2"
   ]
  },
  {
   "cell_type": "markdown",
   "metadata": {},
   "source": [
    "Заведите массив для объектов DecisionTreeRegressor (будем их использовать в качестве базовых алгоритмов) и для вещественных чисел (это будут коэффициенты перед базовыми алгоритмами). В цикле обучите последовательно 50 решающих деревьев с параметрами max_depth=5 и random_state=42 (остальные параметры - по умолчанию). В бустинге зачастую используются сотни и тысячи деревьев, но мы ограничимся 50, чтобы алгоритм работал быстрее, и его было проще отлаживать (т.к. цель задания разобраться, как работает метод). Каждое дерево должно обучаться на одном и том же множестве объектов, но ответы, которые учится прогнозировать дерево, будут меняться в соответствие с полученным в задании 1 правилом. Попробуйте для начала всегда брать коэффициент равным 0.9. Обычно оправдано выбирать коэффициент значительно меньшим - порядка 0.05 или 0.1, но т.к. в нашем учебном примере на стандартном датасете будет всего 50 деревьев, возьмем для начала шаг побольше.\n",
    "\n",
    "В процессе реализации обучения вам потребуется функция, которая будет вычислять прогноз построенной на данный момент композиции деревьев на выборке X (считаем, что base_algorithms_list - список с базовыми алгоритмами, coefficients_list - список с коэффициентами перед алгоритмами)\n",
    "\n",
    "Эта же функция поможет вам получить прогноз на контрольной выборке и оценить качество работы вашего алгоритма с помощью mean_squared_error в sklearn.metrics. Возведите результат в степень 0.5, чтобы получить RMSE. Полученное значение RMSE — ответ в пункте 2."
   ]
  },
  {
   "cell_type": "code",
   "execution_count": 32,
   "metadata": {},
   "outputs": [
    {
     "name": "stdout",
     "output_type": "stream",
     "text": [
      "Model_0 MSE = 4.258124603131531\n",
      "Model_1 MSE = 4.671153714252575\n",
      "Model_2 MSE = 4.902307279003964\n",
      "Model_3 MSE = 4.964147618734462\n",
      "Model_4 MSE = 5.20526450047539\n",
      "Model_5 MSE = 5.135565602127196\n",
      "Model_6 MSE = 5.240746955112687\n",
      "Model_7 MSE = 5.289270262665005\n",
      "Model_8 MSE = 5.474743913112658\n",
      "Model_9 MSE = 5.487351059181247\n",
      "Model_10 MSE = 5.493005009464344\n",
      "Model_11 MSE = 5.486541185059441\n",
      "Model_12 MSE = 5.485319403332965\n",
      "Model_13 MSE = 5.491142418867942\n",
      "Model_14 MSE = 5.4234289382521625\n",
      "Model_15 MSE = 5.455189053902552\n",
      "Model_16 MSE = 5.453903636946008\n",
      "Model_17 MSE = 5.442535087357115\n",
      "Model_18 MSE = 5.451577011033647\n",
      "Model_19 MSE = 5.450957836386989\n",
      "Model_20 MSE = 5.455454044759808\n",
      "Model_21 MSE = 5.452830834182104\n",
      "Model_22 MSE = 5.4534823020413565\n",
      "Model_23 MSE = 5.456955189013637\n",
      "Model_24 MSE = 5.4585969199592395\n",
      "Model_25 MSE = 5.4597046298350955\n",
      "Model_26 MSE = 5.458441954443328\n",
      "Model_27 MSE = 5.459544166421452\n",
      "Model_28 MSE = 5.474640780590228\n",
      "Model_29 MSE = 5.455978129276078\n",
      "Model_30 MSE = 5.456647037889836\n",
      "Model_31 MSE = 5.456688163206112\n",
      "Model_32 MSE = 5.45505870311329\n",
      "Model_33 MSE = 5.45488925048601\n",
      "Model_34 MSE = 5.454706562939971\n",
      "Model_35 MSE = 5.45572218652421\n",
      "Model_36 MSE = 5.4571913656283115\n",
      "Model_37 MSE = 5.456554727051713\n",
      "Model_38 MSE = 5.454952037148743\n",
      "Model_39 MSE = 5.455773037269911\n",
      "Model_40 MSE = 5.455668105961864\n",
      "Model_41 MSE = 5.455288876875153\n",
      "Model_42 MSE = 5.454690240227689\n",
      "Model_43 MSE = 5.454942493332565\n",
      "Model_44 MSE = 5.455052873471142\n",
      "Model_45 MSE = 5.455672101390544\n",
      "Model_46 MSE = 5.455659629260783\n",
      "Model_47 MSE = 5.4557296463990905\n",
      "Model_48 MSE = 5.455680205433288\n",
      "Model_49 MSE = 5.455565103009402\n"
     ]
    }
   ],
   "source": [
    "def gbm_predict(X):\n",
    "    return [sum([coeff * algo.predict([x])[0] for algo, coeff in zip(base_algorithms_list, coefficients_list)]) for x in X]\n",
    "\n",
    "def L_deriv(y, z):\n",
    "    return y - z\n",
    "\n",
    "base_algorithms_list = [] \n",
    "coefficients_list = []\n",
    "\n",
    "for i in range(50):\n",
    "    dtree = tree.DecisionTreeRegressor(max_depth=5, random_state=42)\n",
    "    if i == 0:\n",
    "        dtree.fit(X_train, y_train)\n",
    "    else:\n",
    "        z = gbm_predict(X_train)\n",
    "        dtree.fit(X_train, L_deriv(y_train, z))\n",
    "    base_algorithms_list.append(dtree)\n",
    "    coefficients_list.append(0.9)\n",
    "    print('Model_{0} MSE = {1}'.format(i, np.sqrt(metrics.mean_squared_error(y_test, gbm_predict(X_test)))))\n",
    "\n",
    "RMSE = np.sqrt(metrics.mean_squared_error(y_test, gbm_predict(X_test)))\n",
    "\n",
    "with open('gboost1.txt', 'w') as f_out:\n",
    "        f_out.write(str(RMSE))"
   ]
  },
  {
   "cell_type": "markdown",
   "metadata": {},
   "source": [
    "### Задание 3"
   ]
  },
  {
   "cell_type": "markdown",
   "metadata": {},
   "source": [
    "Вас может также беспокоить, что при движении с постоянным шагом вблизи минимума ошибки ответы на обучающей выборке меняются слишком резко, перескакивая через минимум. Попробуйте уменьшать вес перед каждым алгоритмом с каждой следующей итерацией по формуле 0.9 / (1.0 + i), где i - номер итерации (от 0 до 49). Используйте качество работы алгоритма как ответ в пункте 3. В реальности часто применяется следующая стратегия выбора шага: как только выбран алгоритм, подберем коэффициент перед ним численным методом оптимизации таким образом, чтобы отклонение от правильных ответов было минимальным. Мы не будем предлагать вам реализовать это для выполнения задания, но рекомендуем попробовать разобраться с такой стратегией и реализовать ее при случае для себя."
   ]
  },
  {
   "cell_type": "code",
   "execution_count": 33,
   "metadata": {},
   "outputs": [
    {
     "name": "stdout",
     "output_type": "stream",
     "text": [
      "Model_0 MSE = 4.258124603131531\n",
      "Model_1 MSE = 4.411594948336074\n",
      "Model_2 MSE = 4.391183171661546\n",
      "Model_3 MSE = 4.458775073285299\n",
      "Model_4 MSE = 4.498661031729782\n",
      "Model_5 MSE = 4.5168152101676124\n",
      "Model_6 MSE = 4.550526944390747\n",
      "Model_7 MSE = 4.609092468715132\n",
      "Model_8 MSE = 4.6339875745933385\n",
      "Model_9 MSE = 4.651558505714779\n",
      "Model_10 MSE = 4.659211687810463\n",
      "Model_11 MSE = 4.665846192244087\n",
      "Model_12 MSE = 4.687756339977889\n",
      "Model_13 MSE = 4.705212386904845\n",
      "Model_14 MSE = 4.70888638920925\n",
      "Model_15 MSE = 4.727160820532567\n",
      "Model_16 MSE = 4.738601041184404\n",
      "Model_17 MSE = 4.7434294144854805\n",
      "Model_18 MSE = 4.747957771408691\n",
      "Model_19 MSE = 4.754535803819599\n",
      "Model_20 MSE = 4.760702807935853\n",
      "Model_21 MSE = 4.76469042919606\n",
      "Model_22 MSE = 4.764828870587975\n",
      "Model_23 MSE = 4.763080541850576\n",
      "Model_24 MSE = 4.763091173078234\n",
      "Model_25 MSE = 4.762268473295419\n",
      "Model_26 MSE = 4.758055256544697\n",
      "Model_27 MSE = 4.768499657813316\n",
      "Model_28 MSE = 4.7718046637409675\n",
      "Model_29 MSE = 4.780389023483234\n",
      "Model_30 MSE = 4.7765763172358175\n",
      "Model_31 MSE = 4.783744654359199\n",
      "Model_32 MSE = 4.7865280216634964\n",
      "Model_33 MSE = 4.788442367935862\n",
      "Model_34 MSE = 4.787212053443569\n",
      "Model_35 MSE = 4.792422462196972\n",
      "Model_36 MSE = 4.793468730432272\n",
      "Model_37 MSE = 4.7994641171508885\n",
      "Model_38 MSE = 4.804033058481719\n",
      "Model_39 MSE = 4.8038723728476995\n",
      "Model_40 MSE = 4.803086837269195\n",
      "Model_41 MSE = 4.804028978406079\n",
      "Model_42 MSE = 4.805470455205758\n",
      "Model_43 MSE = 4.804790977053986\n",
      "Model_44 MSE = 4.803709717063459\n",
      "Model_45 MSE = 4.804773448498893\n",
      "Model_46 MSE = 4.808927271733807\n",
      "Model_47 MSE = 4.808240835910818\n",
      "Model_48 MSE = 4.80887898153513\n",
      "Model_49 MSE = 4.812550945781193\n"
     ]
    }
   ],
   "source": [
    "def gbm_predict(X):\n",
    "    return [sum([coeff * algo.predict([x])[0] for algo, coeff in zip(base_algorithms_list, coefficients_list)]) for x in X]\n",
    "\n",
    "def L_deriv(y, z):\n",
    "    return y - z\n",
    "\n",
    "base_algorithms_list = [] \n",
    "coefficients_list = []\n",
    "\n",
    "for i in range(50):\n",
    "    dtree = tree.DecisionTreeRegressor(max_depth=5, random_state=42)\n",
    "    if i == 0:\n",
    "        dtree.fit(X_train, y_train)\n",
    "    else:\n",
    "        z = gbm_predict(X_train)\n",
    "        dtree.fit(X_train, L_deriv(y_train, z))\n",
    "    base_algorithms_list.append(dtree)\n",
    "    coefficients_list.append(0.9/(1+i))\n",
    "    print('Model_{0} MSE = {1}'.format(i, np.sqrt(metrics.mean_squared_error(y_test, gbm_predict(X_test)))))\n",
    "\n",
    "RMSE = np.sqrt(metrics.mean_squared_error(y_test, gbm_predict(X_test)))\n",
    "\n",
    "with open('gboost1_ass2.txt', 'w') as f_out:\n",
    "        f_out.write(str(RMSE))"
   ]
  },
  {
   "cell_type": "markdown",
   "metadata": {},
   "source": [
    "Обратите внимание, что более аккуратный выбор шага позволил понизить RMSE на тестовой выборке (если нет - попробуйте перезапустить алгоритм несколько раз - в среднем качество должно было улучшиться). Однако не стоит относиться к этому результату слишком доверчиво - небольшие изменения в формуле вычисления величины шага могут легко \"сломать\" этот эффект. Выбор хорошего шага в градиентном спуске всегда достаточно непростой вопрос - остается только порадоваться, что почти всегда можно использовать готовые реализации из библиотек."
   ]
  },
  {
   "cell_type": "markdown",
   "metadata": {},
   "source": [
    "### Задание 4"
   ]
  },
  {
   "cell_type": "markdown",
   "metadata": {},
   "source": [
    "Реализованный вами метод - градиентный бустинг над деревьями - очень популярен в машинном обучении. Он представлен как в самой библиотеке sklearn, так и в сторонней библиотеке XGBoost, которая имеет свой питоновский интерфейс. На практике XGBoost работает заметно лучше GradientBoostingRegressor из sklearn, но для этого задания вы можете использовать любую реализацию. Исследуйте, переобучается ли градиентный бустинг с ростом числа итераций (и подумайте, почему), а также с ростом глубины деревьев. На основе наблюдений выпишите через пробел номера правильных из приведенных ниже утверждений в порядке возрастания номера (это будет ответ в п.4):  \n",
    "1) С увеличением числа деревьев, начиная с некоторого момента, качество работы градиентного бустинга не меняется существенно.  \n",
    "2) С увеличением числа деревьев, начиная с некоторого момента, градиентный бустинг начинает переобучаться. **YES**   \n",
    "3) С ростом глубины деревьев, начиная с некоторого момента, качество работы градиентного бустинга на тестовой выборке начинает ухудшаться.  **YES**  \n",
    "4) С ростом глубины деревьев, начиная с некоторого момента, качество работы градиентного бустинга перестает существенно изменяться  "
   ]
  },
  {
   "cell_type": "code",
   "execution_count": 60,
   "metadata": {},
   "outputs": [],
   "source": [
    "n_iter = np.arange(1,501,10)"
   ]
  },
  {
   "cell_type": "code",
   "execution_count": 61,
   "metadata": {},
   "outputs": [
    {
     "data": {
      "image/png": "[encoded data removed]",
      "text/plain": [
       "<Figure size 432x288 with 1 Axes>"
      ]
     },
     "metadata": {
      "needs_background": "light"
     },
     "output_type": "display_data"
    }
   ],
   "source": [
    "scores = []\n",
    "for n in n_iter:\n",
    "    gbr = ensemble.GradientBoostingRegressor(n_estimators=n, random_state=1)\n",
    "    gbr.fit(X_train, y_train)\n",
    "    scores.append(np.sqrt(metrics.mean_squared_error(y_test, gbr.predict(X_test))))\n",
    "\n",
    "plt.title('Gradient Boosting')\n",
    "plt.grid(True)\n",
    "plt.plot(n_iter, scores, 'g-', marker='o')\n",
    "plt.xlabel('Число деревьев')\n",
    "plt.ylabel('RMSE')\n",
    "plt.show()"
   ]
  },
  {
   "cell_type": "code",
   "execution_count": 55,
   "metadata": {},
   "outputs": [],
   "source": [
    "depths = np.arange(1,30,1)"
   ]
  },
  {
   "cell_type": "code",
   "execution_count": 56,
   "metadata": {},
   "outputs": [
    {
     "data": {
      "image/png": "[encoded data removed]",
      "text/plain": [
       "<Figure size 432x288 with 1 Axes>"
      ]
     },
     "metadata": {
      "needs_background": "light"
     },
     "output_type": "display_data"
    }
   ],
   "source": [
    "scores = []\n",
    "for d in depths:\n",
    "    gbr = ensemble.GradientBoostingRegressor(max_depth=d, random_state=1)\n",
    "    gbr.fit(X_train, y_train)\n",
    "    scores.append(np.sqrt(metrics.mean_squared_error(y_test, gbr.predict(X_test))))\n",
    "\n",
    "plt.title('Gradient Boosting')\n",
    "plt.grid(True)\n",
    "plt.plot(depths, scores, 'g-', marker='o')\n",
    "plt.xlabel('Глубина деревьев')\n",
    "plt.ylabel('RMSE')\n",
    "plt.show()"
   ]
  },
  {
   "cell_type": "code",
   "execution_count": 62,
   "metadata": {},
   "outputs": [],
   "source": [
    "with open('gboost1_ass3.txt', 'w') as f_out:\n",
    "        f_out.write('2 3')"
   ]
  },
  {
   "cell_type": "markdown",
   "metadata": {},
   "source": [
    "В самом деле, градиентный бустинг все больше подгоняется под данные с ростом числа деревьев, а рост глубины деревьев только ускоряет этот процесс. Начиная с некоторого момента алгоритм будет все больше переобучаться."
   ]
  },
  {
   "cell_type": "markdown",
   "metadata": {},
   "source": [
    "### Задание 5"
   ]
  },
  {
   "cell_type": "markdown",
   "metadata": {},
   "source": [
    "Сравните получаемое с помощью градиентного бустинга качество с качеством работы линейной регрессии. Для этого обучите LinearRegression из sklearn.linear_model (с параметрами по умолчанию) на обучающей выборке и оцените для прогнозов полученного алгоритма на тестовой выборке RMSE. Полученное качество - ответ в пункте 5. В данном примере качество работы простой модели должно было оказаться хуже, но не стоит забывать, что так бывает не всегда. В заданиях к этому курсу вы еще встретите пример обратной ситуации."
   ]
  },
  {
   "cell_type": "code",
   "execution_count": 64,
   "metadata": {},
   "outputs": [],
   "source": [
    "lnr = linear_model.LinearRegression()\n",
    "lnr.fit(X_train, y_train)\n",
    "RMSE = np.sqrt(metrics.mean_squared_error(y_test, lnr.predict(X_test)))\n",
    "\n",
    "with open('gboost1_ass4.txt', 'w') as f_out:\n",
    "        f_out.write(str(RMSE))"
   ]
  },
  {
   "cell_type": "markdown",
   "metadata": {},
   "source": [
    "Качество работы простого метода (линейной регрессии) оказалось хуже. Этот результат в некоторой степени завораживает: всего 1 деревьев, каждое из которых в каждом своем листе оценивает целевую зависимость некоторой константой, уже решили задачу регрессии лучше, чем линейная модель."
   ]
  },
  {
   "cell_type": "code",
   "execution_count": null,
   "metadata": {},
   "outputs": [],
   "source": []
  }
 ],
 "metadata": {
  "kernelspec": {
   "display_name": "Python 3",
   "language": "python",
   "name": "python3"
  },
  "language_info": {
   "codemirror_mode": {
    "name": "ipython",
    "version": 3
   },
   "file_extension": ".py",
   "mimetype": "text/x-python",
   "name": "python",
   "nbconvert_exporter": "python",
   "pygments_lexer": "ipython3",
   "version": "3.6.5"
  }
 },
 "nbformat": 4,
 "nbformat_minor": 2
}
